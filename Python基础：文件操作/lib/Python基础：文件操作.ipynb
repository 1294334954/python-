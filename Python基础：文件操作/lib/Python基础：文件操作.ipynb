{
 "cells": [
  {
   "cell_type": "markdown",
   "metadata": {},
   "source": [
    "# 实验四十六 Python基础：文件操作\n",
    "## 46.1 实验目的\n",
    "掌握使用Python操作文件（创建文件，写文件，读文件，重命名文件，删除文件）\n",
    "\n",
    "## 46.2 实验要求\n",
    "能够编写Python文件操作程序以实现对文件的创建、读写、重命名以及删除等操作。"
   ]
  },
  {
   "cell_type": "markdown",
   "metadata": {},
   "source": [
    "## 46.3 实验原理\n",
    "### 46.3.1 Python操作文件\n",
    "Python自带的os系统模块可以查看当前操作系统的版本、环境变量等基本信息，并可以执行对应的目录和文件的创建、重命名和删除等操作。\n",
    "\n",
    "os.mknod() 方法用于创建一个指定文件名的文件系统节点（文件，设备特别文件或者命名pipe），语法如下：\n",
    "\n",
    "`os.mknod(filename[, mode=0600[, device=0]])`\n",
    "\n",
    "os.open() 方法用于打开一个文件，并且设置需要的打开选项，模式参数mode参数是可选的，默认为 0777。语法如下：\n",
    "\n",
    "`os.open(file, flags[, mode])`\n",
    "\n",
    "rename()方法重命名文件，需要两个参数(当前的文件名和新文件名)。语法如下：\n",
    "\n",
    "`os.rename(current_file_name, new_file_name)`\n",
    "\n",
    "remove()方法删除文件，需要提供要删除的文件名作为参数。语法如下：\n",
    "\n",
    "`os.remove(file_name)`"
   ]
  },
  {
   "cell_type": "markdown",
   "metadata": {},
   "source": [
    "### 46.3.2 Python读写文件\n",
    "Python内置了open()函数可以直接打开某个文件，并通过打开方式的设置来决定是读取文件内容还是向文件中写入数据。\n",
    "\n",
    "readlines() 方法用于读取所有行(直到结束符 EOF)并返回列表，若给定sizeint>0，返回总和大约为sizeint字节的行, 实际读取值可能比sizhint较大, 因为需要填充缓冲区。如果碰到结束符 EOF 则返回空字符串。语法如下：\n",
    "\n",
    "`fileObject.readlines()`\n",
    "\n",
    "write()方法可将任何字符串写入一个打开的文件。需要重点注意的是，Python字符串可以是二进制数据，而不是仅仅是文字。write()方法不会在字符串的结尾添加换行符('\\n')，且在文件关闭前或缓冲区刷新前，字符串内容存储在缓冲区中，这时你在文件中是看不到写入的内容的。语法如下：\n",
    "\n",
    "`fileObject.write(string)`"
   ]
  },
  {
   "attachments": {
    "image.png": {
     "image/png": "[encoded data removed]"
    }
   },
   "cell_type": "markdown",
   "metadata": {},
   "source": [
    "## 46.4 实验步骤\n",
    "### 46.4.1 编写文件创建和写入程序\n",
    "- 代码如下：\n",
    "\n",
    "![image.png](attachment:image.png)\n",
    "\n",
    "### 46.4.2 运行文件创建和写入程序\n",
    "- 输入以上代码："
   ]
  },
  {
   "cell_type": "code",
   "execution_count": 6,
   "metadata": {},
   "outputs": [],
   "source": [
    "import os\n",
    "fp=open('test1.txt','w')\n",
    "fp.write('hello world!\\n')\n",
    "fp.write('hello python!\\n')\n",
    "fp.close()"
   ]
  },
  {
   "attachments": {
    "image.png": {
     "image/png": "[encoded data removed]"
    }
   },
   "cell_type": "markdown",
   "metadata": {},
   "source": [
    "查看是否成功创建该文件并查看文件内容\n",
    "- 代码如下：\n",
    "\n",
    "![image.png](attachment:image.png)\n",
    "\n",
    "- 输入以上代码："
   ]
  },
  {
   "cell_type": "code",
   "execution_count": 12,
   "metadata": {},
   "outputs": [
    {
     "name": "stdout",
     "output_type": "stream",
     "text": [
      "hello world!\n",
      "hello python!\n",
      "\n"
     ]
    }
   ],
   "source": [
    "with open('test1.txt', 'r') as f:\n",
    "    print(f.read())"
   ]
  },
  {
   "cell_type": "markdown",
   "metadata": {},
   "source": [
    "输出结果为：\n",
    "```\n",
    "Hello World!\n",
    "Hello Python!\n",
    "```"
   ]
  },
  {
   "attachments": {
    "image.png": {
     "image/png": "[encoded data removed]"
    }
   },
   "cell_type": "markdown",
   "metadata": {},
   "source": [
    "### 46.4.3 编写文件重命名和读取程序\n",
    "- 代码如下：\n",
    "![image.png](attachment:image.png)\n",
    "\n",
    "### 46.4.4 运行文件重命名和读取程序\n",
    "- 输入以上代码："
   ]
  },
  {
   "cell_type": "code",
   "execution_count": 13,
   "metadata": {},
   "outputs": [
    {
     "name": "stdout",
     "output_type": "stream",
     "text": [
      "hello world!\n",
      "hello python!\n",
      "\n"
     ]
    }
   ],
   "source": [
    "import os\n",
    "os.rename('test1.txt','test2.txt')\n",
    "fp=open('test2.txt','r')\n",
    "str=fp.read()\n",
    "print(str)\n",
    "fp.close()"
   ]
  },
  {
   "cell_type": "markdown",
   "metadata": {},
   "source": [
    "输出结果为：\n",
    "```\n",
    "Hello World!\n",
    "Hello Python!\n",
    "```"
   ]
  },
  {
   "attachments": {
    "image.png": {
     "image/png": "[encoded data removed]"
    }
   },
   "cell_type": "markdown",
   "metadata": {},
   "source": [
    "### 46.4.5 删除创建的文件\n",
    "- 代码如下：\n",
    "![image.png](attachment:image.png)\n",
    "- 输入以上代码："
   ]
  },
  {
   "cell_type": "code",
   "execution_count": 14,
   "metadata": {},
   "outputs": [],
   "source": [
    "import os\n",
    "os.remove('test2.txt')\n",
    "exit()"
   ]
  },
  {
   "attachments": {
    "image.png": {
     "image/png": "[encoded data removed]"
    }
   },
   "cell_type": "markdown",
   "metadata": {},
   "source": [
    "检验代码执行结果：\n",
    "- 代码如下：\n",
    "\n",
    "![image.png](attachment:image.png)\n",
    "\n",
    "- 输入以上代码："
   ]
  },
  {
   "cell_type": "code",
   "execution_count": 1,
   "metadata": {},
   "outputs": [
    {
     "name": "stdout",
     "output_type": "stream",
     "text": [
      " 驱动器 E 中的卷是 DATA\n",
      " 卷的序列号是 E8ED-0BC4\n",
      "\n",
      " e:\\anaconda program\\notebooks\\Python基础：文件操作\\lib 的目录\n",
      "\n"
     ]
    },
    {
     "name": "stderr",
     "output_type": "stream",
     "text": [
      "找不到文件\n"
     ]
    }
   ],
   "source": [
    "ls test2.txt"
   ]
  },
  {
   "cell_type": "markdown",
   "metadata": {},
   "source": [
    "输入结果为：\n",
    "\n",
    "`ls: cannot access test2.txt: No such file or directory`"
   ]
  }
 ],
 "metadata": {
  "kernelspec": {
   "display_name": "Python 3",
   "language": "python",
   "name": "python3"
  },
  "language_info": {
   "codemirror_mode": {
    "name": "ipython",
    "version": 3
   },
   "file_extension": ".py",
   "mimetype": "text/x-python",
   "name": "python",
   "nbconvert_exporter": "python",
   "pygments_lexer": "ipython3",
   "version": "3.7.0"
  }
 },
 "nbformat": 4,
 "nbformat_minor": 2
}
